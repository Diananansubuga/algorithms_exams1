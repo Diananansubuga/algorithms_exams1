{
  "nbformat": 4,
  "nbformat_minor": 0,
  "metadata": {
    "colab": {
      "provenance": []
    },
    "kernelspec": {
      "name": "python3",
      "display_name": "Python 3"
    },
    "language_info": {
      "name": "python"
    }
  },
  "cells": [
    {
      "cell_type": "markdown",
      "source": [
        "Pseudocode also in the code.\n",
        "BFS (graph, start):\n",
        "\n",
        "Initialize an empty set visited and a queue queue with the starting node and its path.\n",
        "While the queue is not empty:\n",
        "\n",
        "Extract the first node and its path from the queue.\n",
        "\n",
        "If the node has not been visited:\n",
        "\n",
        "Add the node to the visited set.\n",
        "\n",
        "For each unvisited neighbor of the current node:\n",
        "\n",
        "Add the neighbor and its extended path to the queue.\n",
        "\n",
        "Return the visited set containing all nodes explored during the BFS traversal.\n",
        "\n",
        "mutual_friends (graph, user1, user2):\n",
        "\n",
        "Find the set of friends for each user using the bfs function.\n",
        "\n",
        "Find the intersection of the two friend sets to get the mutual friends.\n",
        "\n",
        "Return the set of mutual friends."
      ],
      "metadata": {
        "id": "yHvkR8E3YuZx"
      }
    },
    {
      "cell_type": "code",
      "execution_count": 8,
      "metadata": {
        "colab": {
          "base_uri": "https://localhost:8080/"
        },
        "id": "RO35FhApStLu",
        "outputId": "230e531b-141b-48ce-ea00-aaeae63ebe9b"
      },
      "outputs": [
        {
          "output_type": "stream",
          "name": "stdout",
          "text": [
            "Mutual friends between Diana and Nina: {'Tirzah', 'David', 'Diana'}\n"
          ]
        }
      ],
      "source": [
        "from collections import deque\n",
        "\n",
        "def bfs(graph, start):#BFS (graph, start):\n",
        "    visited = set()\n",
        "    queue = deque([(start, [start])])\n",
        "\n",
        "\n",
        "    while queue: #While the queue is not empty:\n",
        "        node, path = queue.popleft() #Extract the first node and its path from the queue.\n",
        "\n",
        "        if node not in visited: #if the node has not been visited\n",
        "            visited.add(node) # Add node to the visisted set\n",
        "\n",
        "            for neighbor in graph[node]: #For each unvisited neighbor of the current node:\n",
        "                if neighbor not in visited:\n",
        "                    queue.append((neighbor, path + [neighbor]))\n",
        "                    #Add the neighbor and its extended path to the queue\n",
        "\n",
        "    return visited\n",
        "\n",
        "def mutual_friends(graph, user1, user2): #Return the visited set containing all nodes explored during the BFS traversal. mutual_friends (graph, user1, user2):\n",
        "    friends_user1 = bfs(graph, user1)\n",
        "    friends_user2 = bfs(graph, user2)\n",
        "\n",
        "    mutual_friends = friends_user1.intersection(friends_user2) #Find the intersection of the two friend sets to get the mutual friends.\n",
        "\n",
        "    return mutual_friends  #Return the set of mutual friends.\n",
        "# Example usage:\n",
        "social_graph = {\n",
        "    'Diana': ['Tirzah', 'David'],\n",
        "    'Tirzah': ['Diana', 'David'],\n",
        "    'Nina': ['Diana', 'Eve'],\n",
        "    'David': ['Tirzah'],\n",
        "    'Eve': ['Nina']\n",
        "}\n",
        "\n",
        "user1 = 'Diana'\n",
        "user2 = 'Nina'\n",
        "\n",
        "result = mutual_friends(social_graph, user1, user2)\n",
        "print(f\"Mutual friends between {user1} and {user2}: {result}\")\n",
        "\n"
      ]
    },
    {
      "cell_type": "markdown",
      "source": [
        "TIME COMPLEXITY:\n",
        "Time Complexity: O(V+E), where V is the number of nodes and E is the number of edges.\n",
        "\n",
        "number of nodes=5\n",
        "number of edges=11\n",
        "\n",
        "time complexity =O(5+6), O(11)\n",
        "\n"
      ],
      "metadata": {
        "id": "kruCyQ9bU7Eb"
      }
    }
  ]
}